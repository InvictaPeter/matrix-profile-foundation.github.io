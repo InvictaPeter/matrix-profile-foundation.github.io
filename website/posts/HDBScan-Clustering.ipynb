{
 "cells": [
  {
   "cell_type": "markdown",
   "metadata": {},
   "source": [
    "HDBScan is a newer clustering algorithm merging concepts from hierarchical clustering and DBScan into play. You should read the following paper for more details about this algorithm - https://arxiv.org/abs/1911.02282\n",
    "\n",
    "This notebook illustrates how to use MPDist with HDBScan. The specific implementation of HDBScan may be found here - https://hdbscan.readthedocs.io/en/latest/\n",
    "\n",
    "This example is simple in nature. Random walk and incremental time series are generated to illustrate implementation."
   ]
  },
  {
   "cell_type": "code",
   "execution_count": 1,
   "metadata": {},
   "outputs": [],
   "source": [
    "import hdbscan\n",
    "from matrixprofile.algorithms.hierarchical_clustering import pairwise_dist\n",
    "from scipy.spatial.distance import squareform\n",
    "\n",
    "import numpy as np"
   ]
  },
  {
   "cell_type": "code",
   "execution_count": 2,
   "metadata": {},
   "outputs": [],
   "source": [
    "np.random.seed(9999)"
   ]
  },
  {
   "cell_type": "code",
   "execution_count": 3,
   "metadata": {},
   "outputs": [],
   "source": [
    "data = []\n",
    "size = 100\n",
    "\n",
    "random_ts = np.random.uniform(size=size)\n",
    "\n",
    "for _ in range(5):\n",
    "    data.append(np.copy(random_ts))\n",
    "\n",
    "data.append(np.arange(100))\n",
    "data.append(np.arange(100))\n",
    "data.append(np.arange(100))"
   ]
  },
  {
   "cell_type": "code",
   "execution_count": 4,
   "metadata": {},
   "outputs": [],
   "source": [
    "window_size = 8\n",
    "n_jobs = 4\n",
    "\n",
    "distance_matrix = pairwise_dist(data, window_size=window_size, n_jobs=n_jobs)"
   ]
  },
  {
   "cell_type": "code",
   "execution_count": 5,
   "metadata": {},
   "outputs": [],
   "source": [
    "square_distance_matrix = squareform(distance_matrix)"
   ]
  },
  {
   "cell_type": "code",
   "execution_count": 6,
   "metadata": {},
   "outputs": [
    {
     "data": {
      "text/plain": [
       "array([0, 0, 0, 0, 0, 1, 1, 1])"
      ]
     },
     "execution_count": 6,
     "metadata": {},
     "output_type": "execute_result"
    }
   ],
   "source": [
    "clusterer = hdbscan.HDBSCAN(metric='precomputed', min_cluster_size=2)\n",
    "clusterer.fit(square_distance_matrix)\n",
    "clusterer.labels_"
   ]
  },
  {
   "cell_type": "markdown",
   "metadata": {},
   "source": [
    "Here we see that the first 5 time series are clustered together and the latter 3 are clustered together as expected."
   ]
  }
 ],
 "metadata": {
  "kernelspec": {
   "display_name": "article-mpdist-clustering",
   "language": "python",
   "name": "article-mpdist-clustering"
  },
  "language_info": {
   "codemirror_mode": {
    "name": "ipython",
    "version": 3
   },
   "file_extension": ".py",
   "mimetype": "text/x-python",
   "name": "python",
   "nbconvert_exporter": "python",
   "pygments_lexer": "ipython3",
   "version": "3.8.3"
  }
 },
 "nbformat": 4,
 "nbformat_minor": 4
}
