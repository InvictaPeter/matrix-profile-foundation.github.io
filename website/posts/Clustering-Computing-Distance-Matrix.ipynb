{
 "cells": [
  {
   "cell_type": "markdown",
   "metadata": {},
   "source": [
    "This is a quick code tutorial that demonstrates how you can compute the MPDist based pairwise distance matrix. This distance matrix can be used in any clustering algorithm that allows for a custom distance matrix."
   ]
  },
  {
   "cell_type": "code",
   "execution_count": 1,
   "metadata": {},
   "outputs": [],
   "source": [
    "from matrixprofile.algorithms.hierarchical_clustering import pairwise_dist\n",
    "import numpy as np"
   ]
  },
  {
   "cell_type": "code",
   "execution_count": 2,
   "metadata": {},
   "outputs": [
    {
     "data": {
      "text/plain": [
       "\u001b[0;31mClass docstring:\u001b[0m\n",
       "    Utility function to compute all pairwise distances between the timeseries\n",
       "    using MPDist. \n",
       "    \n",
       "    Note\n",
       "    ----\n",
       "    scipy.spatial.distance.pdist cannot be used because they\n",
       "    do not allow for jagged arrays, however their code was used as a reference\n",
       "    in creating this function.\n",
       "    https://github.com/scipy/scipy/blob/master/scipy/spatial/distance.py#L2039\n",
       "    \n",
       "    Parameters\n",
       "    ----------\n",
       "    X : array_like\n",
       "        An array_like object containing time series to compute distances for.\n",
       "    window_size : int\n",
       "        The window size to use in computing the MPDist.\n",
       "    threshold : float\n",
       "        The threshold used to compute MPDist.\n",
       "    n_jobs : int\n",
       "        Number of CPU cores to use during computation.\n",
       "    \n",
       "    Returns\n",
       "    -------\n",
       "    Y : np.ndarray\n",
       "        Returns a condensed distance matrix Y.  For\n",
       "        each :math:`i` and :math:`j` (where :math:`i<j<m`),where m is the \n",
       "        number of original observations. The metric ``dist(u=X[i], v=X[j])``\n",
       "        is computed and stored in entry ``ij``.\n",
       "\u001b[0;31mCall docstring:\u001b[0m\n",
       "    Call self as a function."
      ]
     },
     "metadata": {},
     "output_type": "display_data"
    }
   ],
   "source": [
    "%pdoc pairwise_dist"
   ]
  },
  {
   "cell_type": "markdown",
   "metadata": {},
   "source": [
    "This function computes a condensed distance matrix for all time series of interest. Below is an example of computing the distance matrix on a handful of randomly generated time series."
   ]
  },
  {
   "cell_type": "code",
   "execution_count": 3,
   "metadata": {},
   "outputs": [],
   "source": [
    "# generate 5 random time series\n",
    "\n",
    "data = []\n",
    "size = 100\n",
    "\n",
    "for _ in range(5):\n",
    "    data.append(np.random.uniform(size=size))"
   ]
  },
  {
   "cell_type": "code",
   "execution_count": 4,
   "metadata": {},
   "outputs": [],
   "source": [
    "window_size = 8\n",
    "n_jobs = 4\n",
    "\n",
    "distance_matrix = pairwise_dist(data, window_size=window_size, n_jobs=n_jobs)"
   ]
  },
  {
   "cell_type": "code",
   "execution_count": 5,
   "metadata": {},
   "outputs": [
    {
     "data": {
      "text/plain": [
       "array([1.2334854 , 1.13236744, 1.124416  , 1.17065294, 1.14144607,\n",
       "       1.2107359 , 1.08488366, 1.09598017, 0.98853814, 0.98214056])"
      ]
     },
     "execution_count": 5,
     "metadata": {},
     "output_type": "execute_result"
    }
   ],
   "source": [
    "distance_matrix"
   ]
  },
  {
   "cell_type": "markdown",
   "metadata": {},
   "source": [
    "## Converting to Square Form\n",
    "\n",
    "Some clustering algorithms require the distance matrix to be square. In this case, we simply convert it."
   ]
  },
  {
   "cell_type": "code",
   "execution_count": 6,
   "metadata": {},
   "outputs": [],
   "source": [
    "from scipy.spatial.distance import squareform"
   ]
  },
  {
   "cell_type": "code",
   "execution_count": 7,
   "metadata": {},
   "outputs": [],
   "source": [
    "square_distance_matrix = squareform(distance_matrix)"
   ]
  },
  {
   "cell_type": "code",
   "execution_count": 8,
   "metadata": {},
   "outputs": [
    {
     "data": {
      "text/plain": [
       "array([[0.        , 1.2334854 , 1.13236744, 1.124416  , 1.17065294],\n",
       "       [1.2334854 , 0.        , 1.14144607, 1.2107359 , 1.08488366],\n",
       "       [1.13236744, 1.14144607, 0.        , 1.09598017, 0.98853814],\n",
       "       [1.124416  , 1.2107359 , 1.09598017, 0.        , 0.98214056],\n",
       "       [1.17065294, 1.08488366, 0.98853814, 0.98214056, 0.        ]])"
      ]
     },
     "execution_count": 8,
     "metadata": {},
     "output_type": "execute_result"
    }
   ],
   "source": [
    "square_distance_matrix"
   ]
  }
 ],
 "metadata": {
  "kernelspec": {
   "display_name": "article-mpdist-clustering",
   "language": "python",
   "name": "article-mpdist-clustering"
  },
  "language_info": {
   "codemirror_mode": {
    "name": "ipython",
    "version": 3
   },
   "file_extension": ".py",
   "mimetype": "text/x-python",
   "name": "python",
   "nbconvert_exporter": "python",
   "pygments_lexer": "ipython3",
   "version": "3.8.3"
  }
 },
 "nbformat": 4,
 "nbformat_minor": 4
}
